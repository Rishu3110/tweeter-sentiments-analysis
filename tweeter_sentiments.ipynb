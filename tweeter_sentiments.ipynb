{
 "cells": [
  {
   "cell_type": "code",
   "execution_count": 1,
   "metadata": {},
   "outputs": [],
   "source": [
    "#importing libraries to environment\n",
    "import tweepy #connect with tweeter\n",
    "from textblob import TextBlob\n",
    "import matplotlib.pyplot as plt\n",
    "def percentage(part,whole):\n",
    "    return 100* float(part)/float(whole)"
   ]
  },
  {
   "cell_type": "code",
   "execution_count": null,
   "metadata": {},
   "outputs": [],
   "source": [
    "#insert the key of your tweeter account\n",
    "#below is a false key"
   ]
  },
  {
   "cell_type": "code",
   "execution_count": 11,
   "metadata": {},
   "outputs": [],
   "source": [
    "consumer_key = 'ATfKfmlU88EffYQzIF8SQhiYX'\n",
    "consumer_secret = 'dy8ao96WUqEFjEGi7dnIEiAT2Vq6EDDkXPOv0k50DcSr9dnwsz'\n",
    "access_token = '180739880-ncdWLjX4vDYfaCh1Foj2dltv6TNOPa31Nxb4zvXy'\n",
    "access_token_secret = '3vevh5nD8Z6IXlHn2XcrD7pnxtMVTZRbwu49rPLVRNW1n'"
   ]
  },
  {
   "cell_type": "code",
   "execution_count": 12,
   "metadata": {},
   "outputs": [],
   "source": [
    "auth=tweepy.OAuthHandler(consumer_key,consumer_secret) #authenctication purpose\n",
    "auth.set_access_token(access_token,access_token_secret) #path establish"
   ]
  },
  {
   "cell_type": "code",
   "execution_count": 13,
   "metadata": {},
   "outputs": [],
   "source": [
    "api=tweepy.API(auth)"
   ]
  },
  {
   "cell_type": "code",
   "execution_count": 14,
   "metadata": {},
   "outputs": [
    {
     "name": "stdout",
     "output_type": "stream",
     "text": [
      "Enter the tag to be searched#cwc\n",
      "Enter the no if tweet to be searched30\n"
     ]
    }
   ],
   "source": [
    "searchTerm=input(\"Enter the tag to be searched\")#enter the value \n",
    "NoOfTerm=int(input(\"Enter the no if tweet to be searched\")) #take upto 30-40 to avoid delay\n",
    "tweets=tweepy.Cursor(api.search,q=searchTerm).items(NoOfTerm)\n",
    "positive=0\n",
    "negative=0\n",
    "neutral=0\n",
    "polarity=0\n"
   ]
  },
  {
   "cell_type": "code",
   "execution_count": 15,
   "metadata": {},
   "outputs": [
    {
     "name": "stdout",
     "output_type": "stream",
     "text": [
      "📜Match Update📜\n",
      "India wins he toss, opt to bat\n",
      "\n",
      "@MdShami11 replaces @BhuviOfficial\n",
      "\n",
      "Shami ⬆️ \n",
      "Bhuvi ⬇️\n",
      "\n",
      "#INDvAFG… https://t.co/LZRLfVtZzs\n",
      "RT @ShahidQuetta: The most friendly match will be played today #CWC #AFGvsIND \n",
      "🇦🇫🇮🇳Good luck @ACBofficials @BCCI 👍💐 https://t.co/LVQ5ZfgWWn\n",
      "@Sulekhadotcom @cricketworldcup @BCCIdomestic @ICC @IndianCricketTm @TNCACricket M S DhOni\n",
      "\n",
      "#SulekhaEureka… https://t.co/4qtxIF7l1K\n",
      "RT @AvanseEduLoan: Hello #Twittoria #AspireWithoutBoundaries #CWC2019 #INDvAFG #Contest is coming your way... #ContestAlert \n",
      "T&amp;C Apply http…\n",
      "Remember Rahul Dravid keeping wickets at 2003 #CWC to have extra batsman for team India. Now for #CWC19 we have 4 w… https://t.co/xZBSahDRU8\n",
      "The most friendly match will be played today #CWC #AFGvsIND \n",
      "🇦🇫🇮🇳Good luck @ACBofficials @BCCI 👍💐 https://t.co/LVQ5ZfgWWn\n",
      "RT @Sulekhadotcom: Show us that you're a Cricket fanatic by commenting below the name of the player who you think will be the man of the ma…\n",
      "RT @mohanstatsman: England 🏴󠁧󠁢󠁥󠁮󠁧󠁿 in #CWC against senior Asian Test sides: 15-15\n",
      "v Pak  🇵🇰4-5\n",
      "v SL   🇱🇰 6-5\n",
      "v Ind  🇮🇳3-3\n",
      "v Ban 🇧🇩 2-2\n",
      "\n",
      "#En…\n",
      "RT @bazidkhan81: England are only losing to the best teams in this #CWC. Don’t think they should worry about their final 3 games\n",
      "Remember Rahul Dravid keeping wickets at 2003 #CWC to have extra batsman for team India. Now for #CWC19 we have 4 w… https://t.co/kCX2B9PSpr\n",
      "@SharonPlyIndia @amazonIN 367 Runs #CWC #Predict #Win\n",
      "RT @AvanseEduLoan: Hello #Twittoria #AspireWithoutBoundaries #CWC2019 #INDvAFG #Contest is coming your way... #ContestAlert \n",
      "T&amp;C Apply http…\n",
      "India have won the toss and opt to bat first.\n",
      "Place your bets on the session score now.\n",
      "\n",
      "#CWC19 #CWC #INDvAFG… https://t.co/hVDaFSyOlA\n",
      "RT @bazidkhan81: England are only losing to the best teams in this #CWC. Don’t think they should worry about their final 3 games\n",
      "RT @StarSportsIndia: 2⃣ x 💯\n",
      "2⃣ x joy \n",
      "\n",
      "The last time the #MenInMaroon and the @BLACKCAPS met in the ICC #CWC, @Martyguptill scored a double…\n",
      "@OfficialSLC @cricketworldcup #CricketWorldCup #CWC19 #CWC #ENGvSL https://t.co/BwciaVBalO\n",
      "@ICC @OfficialSLC @cricketworldcup \n",
      "#lk #CricketWorldCup #CWC19 #CWC #ENGvSL #Malinga https://t.co/x8NnFcPcaA\n",
      "@Sulekhadotcom @cricketworldcup @BCCIdomestic @ICC @IndianCricketTm @TNCACricket Kuldeep Yadav \n",
      "\n",
      "#INDvsAF… https://t.co/HDStVyOD5K\n",
      "RT @EbsNeopets: The crowd is ROARING at #cwc https://t.co/5AAZRCwKxh\n",
      "Unworn 26mm Lady Date Just featuring a very classic and elegant china white dial . Available in store now. ☎️01625… https://t.co/Nq5sDn38CG\n",
      "RT @ASOS_Aditya: The spirited Indian Cricket Team to take on Afghanistan today! Aditya School Of Sports would like to wish our Men in Blue…\n",
      "The spirited Indian Cricket Team to take on Afghanistan today! Aditya School Of Sports would like to wish our Men i… https://t.co/EcxZTMNd8D\n",
      "RT @AvanseEduLoan: Hello #Twittoria #AspireWithoutBoundaries #CWC2019 #INDvAFG #Contest is coming your way... #ContestAlert \n",
      "T&amp;C Apply http…\n",
      "RT @twtthelotus: Question 5!\n",
      "\n",
      "An iconic moment that every Indian remembers\n",
      "\n",
      "#TheLotus #UltimateCricketFan\n",
      "\n",
      "#Contest #ContestAlert #icc #cri…\n",
      "RT @AvanseEduLoan: Hello #Twittoria #AspireWithoutBoundaries #CWC2019 #INDvAFG #Contest is coming your way... #ContestAlert \n",
      "T&amp;C Apply http…\n",
      "RT @CrickExpect: Good wining congratulations to all my member's.. for there win ❤️❤️😍💪  just follow my trips guys u will win for teams cont…\n",
      "@twtthelotus A5) M.S. Dhoni\n",
      "\n",
      "#TheLotus #UltimateCricketFan \n",
      "\n",
      "#Contest #ContestAlert #icc #cricket #india #TeamIndia… https://t.co/YhWBWVCq07\n",
      "RT @twtthelotus: Question 5!\n",
      "\n",
      "An iconic moment that every Indian remembers\n",
      "\n",
      "#TheLotus #UltimateCricketFan\n",
      "\n",
      "#Contest #ContestAlert #icc #cri…\n",
      "@twtthelotus A4) India\n",
      "\n",
      "#TheLotus #UltimateCricketFan\n",
      "\n",
      "#Contest #ContestAlert #icc #cricket #india #TeamIndia… https://t.co/5k5yANoVix\n",
      "RT @iCryptoAndy: BOLT has recently partnered with Vodi!\n",
      "\n",
      "Download their app to vote during the ICC Cricket World Cup for a chance to win $2…\n"
     ]
    }
   ],
   "source": [
    "#fetching the tweets\n",
    "for tweet in tweets:\n",
    "    print(tweet.text) #print tweet's text\n",
    "    analysis=TextBlob(tweet.text)\n",
    "    polarity +=analysis.sentiment.polarity\n",
    "    if(analysis.sentiment.polarity==0):\n",
    "        neutral +=1\n",
    "    elif(analysis.sentiment.polarity <0.00):\n",
    "        negative +=1\n",
    "    elif(analysis.sentiment.polarity>0.00):\n",
    "        positive +=1\n",
    "    "
   ]
  },
  {
   "cell_type": "code",
   "execution_count": 18,
   "metadata": {},
   "outputs": [],
   "source": [
    "#claculation  percentage of each sentiments\n",
    "positive=percentage(positive,NoOfTerm)\n",
    "negative=percentage(negative,NoOfTerm)\n",
    "neutral=percentage(neutral,NoOfTerm)"
   ]
  },
  {
   "cell_type": "code",
   "execution_count": 19,
   "metadata": {},
   "outputs": [
    {
     "name": "stdout",
     "output_type": "stream",
     "text": [
      "positive= 166.66666666666666\n",
      "negative= 11.111111111111112\n",
      "neutral= 155.55555555555554\n"
     ]
    }
   ],
   "source": [
    "print(\"positive=\",positive)\n",
    "print(\"negative=\",negative)\n",
    "print(\"neutral=\",neutral)"
   ]
  },
  {
   "cell_type": "code",
   "execution_count": 23,
   "metadata": {},
   "outputs": [
    {
     "data": {
      "image/png": "[encoded data removed]",
      "text/plain": [
       "<Figure size 432x288 with 1 Axes>"
      ]
     },
     "metadata": {},
     "output_type": "display_data"
    }
   ],
   "source": [
    "#plotting pie chart\n",
    "labels=['positive['+str(positive)+'%]','negative['+str(negative)+'%]','neutral['+str(neutral)+'%]']\n",
    "sizes=[positive,negative,neutral]\n",
    "colors=['r','b','g']\n",
    "patches,text= plt.pie(sizes,colors=colors,startangle=90)\n",
    "plt.legend(patches,labels,loc='best')\n",
    "plt.title(\"how people are reacting on \"+searchTerm+\"by ananlysis\"+str(NoOfTerm))\n",
    "plt.axis('equal')\n",
    "plt.tight_layout()\n",
    "plt.show()\n"
   ]
  }
 ],
 "metadata": {
  "kernelspec": {
   "display_name": "Python 3",
   "language": "python",
   "name": "python3"
  },
  "language_info": {
   "codemirror_mode": {
    "name": "ipython",
    "version": 3
   },
   "file_extension": ".py",
   "mimetype": "text/x-python",
   "name": "python",
   "nbconvert_exporter": "python",
   "pygments_lexer": "ipython3",
   "version": "3.7.3"
  }
 },
 "nbformat": 4,
 "nbformat_minor": 2
}
